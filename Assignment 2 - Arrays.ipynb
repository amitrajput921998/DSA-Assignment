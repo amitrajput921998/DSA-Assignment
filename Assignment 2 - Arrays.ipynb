{
 "cells": [
  {
   "cell_type": "code",
   "execution_count": 1,
   "id": "e3c6a0fc-118c-44e5-9279-3535ebb35745",
   "metadata": {},
   "outputs": [
    {
     "name": "stdout",
     "output_type": "stream",
     "text": [
      "4\n"
     ]
    }
   ],
   "source": [
    "def arrayPairSum(nums):\n",
    "    nums.sort()  \n",
    "    pair_sum = 0\n",
    "\n",
    "    for i in range(0, len(nums), 2):\n",
    "        pair_sum += nums[i]\n",
    "\n",
    "    return pair_sum\n",
    "\n",
    "\n",
    "nums = [1, 4, 3, 2]\n",
    "result = arrayPairSum(nums)\n",
    "print(result)  \n"
   ]
  },
  {
   "cell_type": "code",
   "execution_count": 2,
   "id": "18f838f0-4de5-42a8-8c67-2d7c5745a182",
   "metadata": {},
   "outputs": [
    {
     "name": "stdout",
     "output_type": "stream",
     "text": [
      "3\n"
     ]
    }
   ],
   "source": [
    "def distributeCandies(candyType):\n",
    "    unique_candies = set(candyType)\n",
    "    max_types = min(len(unique_candies), len(candyType) // 2)\n",
    "    return max_types\n",
    "\n",
    "\n",
    "candyType = [1, 1, 2, 2, 3, 3]\n",
    "result = distributeCandies(candyType)\n",
    "print(result)  \n"
   ]
  },
  {
   "cell_type": "code",
   "execution_count": 3,
   "id": "8deb0e8a-b04a-4cf9-83a6-b890f1e1d244",
   "metadata": {},
   "outputs": [
    {
     "name": "stdout",
     "output_type": "stream",
     "text": [
      "5\n"
     ]
    }
   ],
   "source": [
    "def findLHS(nums):\n",
    "    num_counts = {}\n",
    "    longest_subseq_length = 0\n",
    "\n",
    "   \n",
    "    for num in nums:\n",
    "        num_counts[num] = num_counts.get(num, 0) + 1\n",
    "\n",
    "    \n",
    "    for num in num_counts:\n",
    "        if num + 1 in num_counts:\n",
    "            subseq_length = num_counts[num] + num_counts[num + 1]\n",
    "            longest_subseq_length = max(longest_subseq_length, subseq_length)\n",
    "\n",
    "    return longest_subseq_length\n",
    "\n",
    "\n",
    "nums = [1, 3, 2, 2, 5, 2, 3, 7]\n",
    "result = findLHS(nums)\n",
    "print(result)  \n"
   ]
  },
  {
   "cell_type": "code",
   "execution_count": 4,
   "id": "1db11494-2b4d-4531-bab7-29ca93025c7b",
   "metadata": {},
   "outputs": [
    {
     "name": "stdout",
     "output_type": "stream",
     "text": [
      "True\n"
     ]
    }
   ],
   "source": [
    "def canPlaceFlowers(flowerbed, n):\n",
    "    count = 0\n",
    "    i = 0\n",
    "    while i < len(flowerbed):\n",
    "        if flowerbed[i] == 0 and (i == 0 or flowerbed[i - 1] == 0) and (i == len(flowerbed) - 1 or flowerbed[i + 1] == 0):\n",
    "            flowerbed[i] = 1  \n",
    "            count += 1\n",
    "        i += 1\n",
    "        if count >= n:\n",
    "            return True\n",
    "    return False\n",
    "\n",
    "\n",
    "flowerbed = [1, 0, 0, 0, 1]\n",
    "n = 1\n",
    "result = canPlaceFlowers(flowerbed, n)\n",
    "print(result)  \n"
   ]
  },
  {
   "cell_type": "code",
   "execution_count": 5,
   "id": "3f19cd63-4ac8-417b-87a6-60e12fa8a0cf",
   "metadata": {},
   "outputs": [
    {
     "name": "stdout",
     "output_type": "stream",
     "text": [
      "6\n"
     ]
    }
   ],
   "source": [
    "def maximumProduct(nums):\n",
    "    nums.sort()\n",
    "    n = len(nums)\n",
    "    \n",
    "    return max(nums[-1] * nums[-2] * nums[-3], nums[0] * nums[1] * nums[-1])\n",
    "\n",
    "\n",
    "nums = [1, 2, 3]\n",
    "result = maximumProduct(nums)\n",
    "print(result)  \n"
   ]
  },
  {
   "cell_type": "code",
   "execution_count": 6,
   "id": "c5b43bf9-d5fd-4962-ad03-ad89b05201fc",
   "metadata": {},
   "outputs": [
    {
     "name": "stdout",
     "output_type": "stream",
     "text": [
      "4\n"
     ]
    }
   ],
   "source": [
    "def search(nums, target):\n",
    "    left = 0\n",
    "    right = len(nums) - 1\n",
    "\n",
    "    while left <= right:\n",
    "        mid = (left + right) // 2\n",
    "\n",
    "        if nums[mid] == target:\n",
    "            return mid\n",
    "        elif nums[mid] < target:\n",
    "            left = mid + 1\n",
    "        else:\n",
    "            right = mid - 1\n",
    "\n",
    "    return -1\n",
    "\n",
    "\n",
    "nums = [-1, 0, 3, 5, 9, 12]\n",
    "target = 9\n",
    "index = search(nums, target)\n",
    "print(index)  \n"
   ]
  },
  {
   "cell_type": "code",
   "execution_count": null,
   "id": "818d2294-7118-479d-be44-510af8ae7df3",
   "metadata": {},
   "outputs": [],
   "source": []
  }
 ],
 "metadata": {
  "kernelspec": {
   "display_name": "Python 3 (ipykernel)",
   "language": "python",
   "name": "python3"
  },
  "language_info": {
   "codemirror_mode": {
    "name": "ipython",
    "version": 3
   },
   "file_extension": ".py",
   "mimetype": "text/x-python",
   "name": "python",
   "nbconvert_exporter": "python",
   "pygments_lexer": "ipython3",
   "version": "3.10.6"
  }
 },
 "nbformat": 4,
 "nbformat_minor": 5
}
